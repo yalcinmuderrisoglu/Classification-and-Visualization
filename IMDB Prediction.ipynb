{
 "cells": [
  {
   "cell_type": "code",
   "execution_count": 63,
   "metadata": {},
   "outputs": [],
   "source": [
    "import numpy as np # linear algebra \n",
    "import pandas as pd # data processing, CSV file I/O (e.g. pd.read_csv) \n",
    "import matplotlib.pyplot as plt \n",
    "import seaborn as sns"
   ]
  },
  {
   "cell_type": "code",
   "execution_count": 64,
   "metadata": {},
   "outputs": [],
   "source": [
    "dataset = pd.read_csv('IMDB-Movie-Data.csv')"
   ]
  },
  {
   "cell_type": "code",
   "execution_count": 65,
   "metadata": {},
   "outputs": [
    {
     "data": {
      "text/html": [
       "<div>\n",
       "<style scoped>\n",
       "    .dataframe tbody tr th:only-of-type {\n",
       "        vertical-align: middle;\n",
       "    }\n",
       "\n",
       "    .dataframe tbody tr th {\n",
       "        vertical-align: top;\n",
       "    }\n",
       "\n",
       "    .dataframe thead th {\n",
       "        text-align: right;\n",
       "    }\n",
       "</style>\n",
       "<table border=\"1\" class=\"dataframe\">\n",
       "  <thead>\n",
       "    <tr style=\"text-align: right;\">\n",
       "      <th></th>\n",
       "      <th>Rank</th>\n",
       "      <th>Title</th>\n",
       "      <th>Genre</th>\n",
       "      <th>Description</th>\n",
       "      <th>Director</th>\n",
       "      <th>Actors</th>\n",
       "      <th>Year</th>\n",
       "      <th>Runtime (Minutes)</th>\n",
       "      <th>Rating</th>\n",
       "      <th>Votes</th>\n",
       "      <th>Revenue (Millions)</th>\n",
       "      <th>Metascore</th>\n",
       "    </tr>\n",
       "  </thead>\n",
       "  <tbody>\n",
       "    <tr>\n",
       "      <th>0</th>\n",
       "      <td>1</td>\n",
       "      <td>Guardians of the Galaxy</td>\n",
       "      <td>Action,Adventure,Sci-Fi</td>\n",
       "      <td>A group of intergalactic criminals are forced ...</td>\n",
       "      <td>James Gunn</td>\n",
       "      <td>Chris Pratt, Vin Diesel, Bradley Cooper, Zoe S...</td>\n",
       "      <td>2014</td>\n",
       "      <td>121</td>\n",
       "      <td>8.1</td>\n",
       "      <td>757074</td>\n",
       "      <td>333.13</td>\n",
       "      <td>76.0</td>\n",
       "    </tr>\n",
       "    <tr>\n",
       "      <th>1</th>\n",
       "      <td>2</td>\n",
       "      <td>Prometheus</td>\n",
       "      <td>Adventure,Mystery,Sci-Fi</td>\n",
       "      <td>Following clues to the origin of mankind, a te...</td>\n",
       "      <td>Ridley Scott</td>\n",
       "      <td>Noomi Rapace, Logan Marshall-Green, Michael Fa...</td>\n",
       "      <td>2012</td>\n",
       "      <td>124</td>\n",
       "      <td>7.0</td>\n",
       "      <td>485820</td>\n",
       "      <td>126.46</td>\n",
       "      <td>65.0</td>\n",
       "    </tr>\n",
       "    <tr>\n",
       "      <th>2</th>\n",
       "      <td>3</td>\n",
       "      <td>Split</td>\n",
       "      <td>Horror,Thriller</td>\n",
       "      <td>Three girls are kidnapped by a man with a diag...</td>\n",
       "      <td>M. Night Shyamalan</td>\n",
       "      <td>James McAvoy, Anya Taylor-Joy, Haley Lu Richar...</td>\n",
       "      <td>2016</td>\n",
       "      <td>117</td>\n",
       "      <td>7.3</td>\n",
       "      <td>157606</td>\n",
       "      <td>138.12</td>\n",
       "      <td>62.0</td>\n",
       "    </tr>\n",
       "  </tbody>\n",
       "</table>\n",
       "</div>"
      ],
      "text/plain": [
       "   Rank                    Title                     Genre  \\\n",
       "0     1  Guardians of the Galaxy   Action,Adventure,Sci-Fi   \n",
       "1     2               Prometheus  Adventure,Mystery,Sci-Fi   \n",
       "2     3                    Split           Horror,Thriller   \n",
       "\n",
       "                                         Description            Director  \\\n",
       "0  A group of intergalactic criminals are forced ...          James Gunn   \n",
       "1  Following clues to the origin of mankind, a te...        Ridley Scott   \n",
       "2  Three girls are kidnapped by a man with a diag...  M. Night Shyamalan   \n",
       "\n",
       "                                              Actors  Year  Runtime (Minutes)  \\\n",
       "0  Chris Pratt, Vin Diesel, Bradley Cooper, Zoe S...  2014                121   \n",
       "1  Noomi Rapace, Logan Marshall-Green, Michael Fa...  2012                124   \n",
       "2  James McAvoy, Anya Taylor-Joy, Haley Lu Richar...  2016                117   \n",
       "\n",
       "   Rating   Votes  Revenue (Millions)  Metascore  \n",
       "0     8.1  757074              333.13       76.0  \n",
       "1     7.0  485820              126.46       65.0  \n",
       "2     7.3  157606              138.12       62.0  "
      ]
     },
     "execution_count": 65,
     "metadata": {},
     "output_type": "execute_result"
    }
   ],
   "source": [
    "dataset.head(3)"
   ]
  },
  {
   "cell_type": "code",
   "execution_count": 66,
   "metadata": {},
   "outputs": [
    {
     "name": "stdout",
     "output_type": "stream",
     "text": [
      "<class 'pandas.core.frame.DataFrame'>\n",
      "RangeIndex: 1000 entries, 0 to 999\n",
      "Data columns (total 12 columns):\n",
      "Rank                  1000 non-null int64\n",
      "Title                 1000 non-null object\n",
      "Genre                 1000 non-null object\n",
      "Description           1000 non-null object\n",
      "Director              1000 non-null object\n",
      "Actors                1000 non-null object\n",
      "Year                  1000 non-null int64\n",
      "Runtime (Minutes)     1000 non-null int64\n",
      "Rating                1000 non-null float64\n",
      "Votes                 1000 non-null int64\n",
      "Revenue (Millions)    872 non-null float64\n",
      "Metascore             936 non-null float64\n",
      "dtypes: float64(3), int64(4), object(5)\n",
      "memory usage: 93.8+ KB\n"
     ]
    }
   ],
   "source": [
    "dataset.info()"
   ]
  },
  {
   "cell_type": "code",
   "execution_count": 67,
   "metadata": {},
   "outputs": [],
   "source": [
    "dataset_desc = dataset.describe()"
   ]
  },
  {
   "cell_type": "code",
   "execution_count": 164,
   "metadata": {},
   "outputs": [],
   "source": [
    "# take part of data  for Iputation , Encoding etc.\n",
    "Revenue = dataset.iloc[:,10:11].values\n",
    "Metascore = dataset.iloc[:,11:].values\n",
    "Genre = dataset.iloc[:,2:3].values\n",
    "Director = dataset.iloc[:,4:5].values\n",
    "Votes = dataset.iloc[:,9:10].values"
   ]
  },
  {
   "cell_type": "code",
   "execution_count": 73,
   "metadata": {},
   "outputs": [
    {
     "data": {
      "image/png": "[encoded data removed]",
      "text/plain": [
       "<matplotlib.figure.Figure at 0xbe46588>"
      ]
     },
     "metadata": {},
     "output_type": "display_data"
    }
   ],
   "source": [
    "# scatter plot \n",
    "plt.figure(figsize=(15,6)) \n",
    "plt.scatter(dataset['Rating'],dataset['Revenue (Millions)']) \n",
    "plt.xlabel('RATE',color = 'red').set_size(20) \n",
    "plt.ylabel('REVENUE',color = 'yellow').set_size(20) \n"
   ]
  },
  {
   "cell_type": "code",
   "execution_count": 74,
   "metadata": {},
   "outputs": [
    {
     "data": {
      "image/png": "[encoded data removed]",
      "text/plain": [
       "<matplotlib.figure.Figure at 0xbef97f0>"
      ]
     },
     "metadata": {},
     "output_type": "display_data"
    }
   ],
   "source": [
    "# point plot \n",
    "plt.figure(figsize=(10,8)) \n",
    "sns.pointplot(dataset['Rating'],dataset['Revenue (Millions)'], color='grey') \n",
    "plt.xlabel('RATE').set_size(20) \n",
    "plt.ylabel('REVENUE').set_size(20) \n"
   ]
  },
  {
   "cell_type": "code",
   "execution_count": 158,
   "metadata": {},
   "outputs": [
    {
     "data": {
      "image/png": "[encoded data removed]",
      "text/plain": [
       "<matplotlib.figure.Figure at 0xcaaa978>"
      ]
     },
     "metadata": {},
     "output_type": "display_data"
    }
   ],
   "source": [
    "# count plot \n",
    "plt.figure(figsize=(20,8)) \n",
    "sns.countplot(x=dataset['Rating'].round(2)) \n",
    "plt.xlabel('Rating').set_size(15) \n",
    "plt.ylabel('Count').set_size(15) \n"
   ]
  },
  {
   "cell_type": "code",
   "execution_count": 124,
   "metadata": {},
   "outputs": [],
   "source": [
    "# Imputation\n",
    "from sklearn.preprocessing import Imputer\n",
    "imputer= Imputer(missing_values='NaN', strategy = 'mean', axis=0 )   \n",
    "imputer = imputer.fit(dataset.iloc[:,10:11])\n",
    "IMP_Revenue = imputer.transform(Revenue)\n",
    "\n",
    "from sklearn.preprocessing import Imputer\n",
    "imputer= Imputer(missing_values='NaN', strategy = 'mean', axis=0 )   \n",
    "imputer = imputer.fit(dataset.iloc[:,11:])\n",
    "IMP_Metascore = imputer.transform(Metascore)\n"
   ]
  },
  {
   "cell_type": "code",
   "execution_count": 126,
   "metadata": {},
   "outputs": [
    {
     "name": "stdout",
     "output_type": "stream",
     "text": [
      "[-0.68884346  0.84544213 -0.74202676  2.50415504]\n",
      "nan\n",
      "<class 'pandas.core.frame.DataFrame'>\n",
      "RangeIndex: 1000 entries, 0 to 999\n",
      "Data columns (total 10 columns):\n",
      "Title                1000 non-null object\n",
      "Genre                1000 non-null object\n",
      "Description          1000 non-null object\n",
      "Director             1000 non-null object\n",
      "Actors               1000 non-null object\n",
      "Year                 1000 non-null int64\n",
      "Runtime (Minutes)    1000 non-null int64\n",
      "Rating               1000 non-null float64\n",
      "IMP_Revenue          1000 non-null float64\n",
      "IMP_Metascore        1000 non-null float64\n",
      "dtypes: float64(3), int64(2), object(5)\n",
      "memory usage: 78.2+ KB\n"
     ]
    }
   ],
   "source": [
    "# Rename column\n",
    "IMP_Revenue = pd.DataFrame(data = IMP_Revenue )\n",
    "IMP_Revenue.rename(columns={0:'IMP_Revenue'},inplace=True)\n",
    "\n",
    "IMP_Metascore = pd.DataFrame(data = IMP_Metascore )\n",
    "IMP_Metascore.rename(columns={0:'IMP_Metascore'},inplace=True)\n",
    "\n",
    "\n"
   ]
  },
  {
   "cell_type": "code",
   "execution_count": 152,
   "metadata": {},
   "outputs": [],
   "source": [
    "# Encoding for string value\n",
    "from sklearn.preprocessing import LabelEncoder\n",
    "le = LabelEncoder()\n",
    "Genre_Label_enc = le.fit_transform(Genre)\n",
    "Genre_Label_enc = pd.DataFrame(data = Genre_Label_enc )\n",
    "Genre_Label_enc.rename(columns={0:'Genre_Label_enc'},inplace=True)\n"
   ]
  },
  {
   "cell_type": "code",
   "execution_count": 153,
   "metadata": {},
   "outputs": [
    {
     "name": "stdout",
     "output_type": "stream",
     "text": [
      "     Genre_Label_enc  Year  Runtime (Minutes)  Rating   Votes  IMP_Revenue  \\\n",
      "0                 11  2014                121     8.1  757074   333.130000   \n",
      "1                 85  2012                124     7.0  485820   126.460000   \n",
      "2                195  2016                117     7.3  157606   138.120000   \n",
      "3                 92  2016                108     7.2   60545   270.320000   \n",
      "4                  7  2016                123     6.2  393727   325.020000   \n",
      "5                  7  2016                103     6.1   56036    45.130000   \n",
      "6                116  2016                128     8.3  258682   151.060000   \n",
      "7                108  2016                 89     6.4    2490    82.956376   \n",
      "8                  2  2016                141     7.1    7188     8.010000   \n",
      "9                 74  2016                116     7.0  192177   100.010000   \n",
      "10                80  2016                133     7.5  232072   234.020000   \n",
      "11               102  2016                127     7.8   93103   169.270000   \n",
      "12                11  2016                133     7.9  323118   532.170000   \n",
      "13                89  2016                107     7.7  118151   248.750000   \n",
      "14                18  2016                109     6.4    8612     2.870000   \n",
      "15                89  2016                 87     6.6  120259   368.310000   \n",
      "16               102  2016                139     8.2  211760    67.120000   \n",
      "17                55  2016                123     6.7  150823   162.160000   \n",
      "18               100  2016                118     8.1  102061    51.690000   \n",
      "19               173  2016                116     8.0  340798   100.500000   \n",
      "20                76  2016                120     6.7   19053     7.220000   \n",
      "21               149  2016                137     7.9  134213    47.700000   \n",
      "22               142  2016                108     6.7    1115    82.956376   \n",
      "23                89  2016                 92     6.5   38552   153.690000   \n",
      "24                11  2016                120     5.3  127553   103.140000   \n",
      "25               108  2016                 83     6.8     222    82.956376   \n",
      "26                 5  2015                159     8.3   76193     6.500000   \n",
      "27               195  2016                 99     4.7     523     0.010000   \n",
      "28               108  2016                100     6.2   66540   113.080000   \n",
      "29                 5  2016                115     5.9  112813    54.650000   \n",
      "..               ...   ...                ...     ...     ...          ...   \n",
      "970              195  2013                 92     4.8   37060    34.330000   \n",
      "971              174  2007                105     6.9  193491    80.050000   \n",
      "972              117  2012                123     5.9   64513    38.510000   \n",
      "973              191  2011                111     6.2  108544    38.180000   \n",
      "974              105  2016                124     7.4    6753     8.810000   \n",
      "975              123  2016                 94     6.0   20966    59.570000   \n",
      "976              174  2015                113     6.2   31634    82.956376   \n",
      "977              108  2016                 92     5.0    2229    82.956376   \n",
      "978              149  2016                 97     7.0   10658    82.956376   \n",
      "979              183  2011                120     7.6  108772     3.190000   \n",
      "980              101  2016                109     7.0   12048    61.690000   \n",
      "981              113  2014                118     5.3   27312    85.910000   \n",
      "982              156  2007                133     7.4   95172    24.340000   \n",
      "983              108  2014                104     6.5  112729    82.390000   \n",
      "984               79  2015                111     6.8   21405    42.650000   \n",
      "985               64  2011                102     5.6   87904    21.560000   \n",
      "986              195  2011                 92     5.9   88000    42.580000   \n",
      "987              176  2014                104     6.3   33688    23.390000   \n",
      "988              190  2008                 99     7.1   63785    82.956376   \n",
      "989              102  2014                128     7.5   67637    52.070000   \n",
      "990                7  2009                 92     6.6  129708    45.800000   \n",
      "991              152  2007                165     8.5  102697     1.200000   \n",
      "992              118  2011                 97     6.3   45419     6.920000   \n",
      "993                8  2010                 97     5.9  140900    60.130000   \n",
      "994              108  2012                 88     6.7  164088    54.720000   \n",
      "995              144  2015                111     6.2   27585    82.956376   \n",
      "996              190  2007                 94     5.5   73152    17.540000   \n",
      "997              170  2008                 98     6.2   70699    58.010000   \n",
      "998               61  2014                 93     5.6    4881    82.956376   \n",
      "999              121  2016                 87     5.3   12435    19.640000   \n",
      "\n",
      "     IMP_Metascore  \n",
      "0        76.000000  \n",
      "1        65.000000  \n",
      "2        62.000000  \n",
      "3        59.000000  \n",
      "4        40.000000  \n",
      "5        42.000000  \n",
      "6        93.000000  \n",
      "7        71.000000  \n",
      "8        78.000000  \n",
      "9        41.000000  \n",
      "10       66.000000  \n",
      "11       74.000000  \n",
      "12       65.000000  \n",
      "13       81.000000  \n",
      "14       70.000000  \n",
      "15       61.000000  \n",
      "16       71.000000  \n",
      "17       58.000000  \n",
      "18       69.000000  \n",
      "19       81.000000  \n",
      "20       49.000000  \n",
      "21       96.000000  \n",
      "22       72.000000  \n",
      "23       56.000000  \n",
      "24       32.000000  \n",
      "25       58.985043  \n",
      "26       58.985043  \n",
      "27       58.985043  \n",
      "28       60.000000  \n",
      "29       36.000000  \n",
      "..             ...  \n",
      "970      62.000000  \n",
      "971      58.985043  \n",
      "972      47.000000  \n",
      "973      52.000000  \n",
      "974      73.000000  \n",
      "975      37.000000  \n",
      "976      39.000000  \n",
      "977      38.000000  \n",
      "978      48.000000  \n",
      "979      70.000000  \n",
      "980      44.000000  \n",
      "981      33.000000  \n",
      "982      56.000000  \n",
      "983      30.000000  \n",
      "984      47.000000  \n",
      "985      31.000000  \n",
      "986      50.000000  \n",
      "987      30.000000  \n",
      "988      89.000000  \n",
      "989      58.985043  \n",
      "990      44.000000  \n",
      "991      42.000000  \n",
      "992      58.985043  \n",
      "993      37.000000  \n",
      "994      48.000000  \n",
      "995      45.000000  \n",
      "996      46.000000  \n",
      "997      50.000000  \n",
      "998      22.000000  \n",
      "999      11.000000  \n",
      "\n",
      "[1000 rows x 7 columns]\n"
     ]
    }
   ],
   "source": [
    "# Concatanete all data part\n",
    "dataset_edited = pd.concat([  pd.DataFrame(Genre_Label_enc) ,  dataset.iloc[:,6:10],pd.DataFrame(IMP_Revenue),pd.DataFrame(IMP_Metascore) ],axis=1)\n",
    "print(dataset_edited)"
   ]
  },
  {
   "cell_type": "code",
   "execution_count": 156,
   "metadata": {},
   "outputs": [
    {
     "name": "stdout",
     "output_type": "stream",
     "text": [
      "[-0.15622278 -0.68884346  0.84544213 -0.74202676  2.50415504  2.77150147\n",
      " -0.12784748]\n"
     ]
    }
   ],
   "source": [
    "from scipy.stats import skew\n",
    "print (skew(dataset_edited))"
   ]
  },
  {
   "cell_type": "code",
   "execution_count": 169,
   "metadata": {},
   "outputs": [
    {
     "data": {
      "image/png": "[encoded data removed]",
      "text/plain": [
       "<matplotlib.figure.Figure at 0xcd18cf8>"
      ]
     },
     "metadata": {},
     "output_type": "display_data"
    },
    {
     "data": {
      "image/png": "[encoded data removed]",
      "text/plain": [
       "<matplotlib.figure.Figure at 0xf43ff28>"
      ]
     },
     "metadata": {},
     "output_type": "display_data"
    }
   ],
   "source": [
    "plt.hist(Votes, bins='auto')  # arguments are passed to np.histogram\n",
    "plt.title(\"Votes\")\n",
    "plt.show()\n",
    "\n",
    "plt.hist(np.log(Votes), bins='auto')  # arguments are passed to np.histogram\n",
    "plt.title(\"Log 10 Votes\")\n",
    "plt.show()"
   ]
  },
  {
   "cell_type": "code",
   "execution_count": 173,
   "metadata": {},
   "outputs": [],
   "source": [
    "# Concatanete all data part\n",
    "Log_Votes = np.log(Votes) \n",
    "Log_Votes = pd.DataFrame(data = Log_Votes )\n",
    "Log_Votes.rename(columns={0:'Log_Votes'},inplace=True)\n",
    "dataset_edited = pd.concat([  pd.DataFrame(Genre_Label_enc) ,  dataset.iloc[:,6:9], pd.DataFrame(Log_Votes) ,pd.DataFrame(IMP_Revenue),pd.DataFrame(IMP_Metascore) ],axis=1)\n"
   ]
  },
  {
   "cell_type": "code",
   "execution_count": 178,
   "metadata": {},
   "outputs": [],
   "source": [
    "y = dataset_edited.iloc[:,4:5]\n",
    "x = pd.concat([   dataset_edited.iloc[:,1:4] , dataset_edited.iloc[:,5:9] ],axis=1)\n",
    "\n",
    "from sklearn.cross_validation import train_test_split\n",
    "x_train, x_test,y_train,y_test = train_test_split(x,y,test_size=0.33, random_state=0)\n"
   ]
  },
  {
   "cell_type": "code",
   "execution_count": null,
   "metadata": {},
   "outputs": [],
   "source": []
  }
 ],
 "metadata": {
  "kernelspec": {
   "display_name": "Python 3",
   "language": "python",
   "name": "python3"
  },
  "language_info": {
   "codemirror_mode": {
    "name": "ipython",
    "version": 3
   },
   "file_extension": ".py",
   "mimetype": "text/x-python",
   "name": "python",
   "nbconvert_exporter": "python",
   "pygments_lexer": "ipython3",
   "version": "3.6.4"
  }
 },
 "nbformat": 4,
 "nbformat_minor": 2
}
